{
 "cells": [
  {
   "cell_type": "markdown",
   "metadata": {},
   "source": [
    "Task 1.1"
   ]
  },
  {
   "cell_type": "code",
   "execution_count": null,
   "metadata": {},
   "outputs": [],
   "source": [
    "import math\n",
    "Mean_population = 100\n",
    "SD_population = 15\n",
    "n = 36 \n",
    "x = 108\n",
    "s = SD_population/(math.sqrt(n))\n",
    "#H0 mean = 100  there is no effect of corn strach\n",
    "#H1 mean > 100 there is effect of corn starch\n",
    "\n",
    "Z = (x-Mean_population)/s"
   ]
  },
  {
   "cell_type": "code",
   "execution_count": 11,
   "metadata": {},
   "outputs": [
    {
     "data": {
      "text/plain": [
       "(2.5, 3.2)"
      ]
     },
     "execution_count": 11,
     "metadata": {},
     "output_type": "execute_result"
    }
   ],
   "source": [
    "s,Z"
   ]
  },
  {
   "cell_type": "code",
   "execution_count": 13,
   "metadata": {},
   "outputs": [
    {
     "data": {
      "text/plain": [
       "0.0007000000000000339"
      ]
     },
     "execution_count": 13,
     "metadata": {},
     "output_type": "execute_result"
    }
   ],
   "source": [
    "P_z= 0.9993 #from Ztable\n",
    "p_lessthan_108 = 1-P_z\n",
    "p_lessthan_108"
   ]
  },
  {
   "cell_type": "markdown",
   "metadata": {},
   "source": [
    "p_lessthan_108 is less that alpha (0.05) we reject H0"
   ]
  },
  {
   "cell_type": "markdown",
   "metadata": {},
   "source": [
    "Task 1.2"
   ]
  },
  {
   "cell_type": "code",
   "execution_count": 21,
   "metadata": {},
   "outputs": [],
   "source": [
    "#Since we are interested in p(R) we denote them as P and P(D) as q\n",
    "P1 = 0.52\n",
    "q1 = 0.48\n",
    "P2 = 0.47\n",
    "q2 = 0.53\n",
    "N = 100\n",
    "#SD = Sqrt of pq\n",
    "SD = math.sqrt((P1*q1)+(P2*q2))\n",
    "#We need to find probability of P2 > P1\n",
    "#P1-P2 < 0\n",
    "x = 0\n",
    "#Mean of differance of population is P1-P2\n",
    "X = P1-P2\n",
    "Z_P2_P1 = (x-X)/SD"
   ]
  },
  {
   "cell_type": "code",
   "execution_count": 28,
   "metadata": {},
   "outputs": [
    {
     "name": "stdout",
     "output_type": "stream",
     "text": [
      "Standard Deviation:0.7061869440877535, Z score :-0.07080278164104213\n"
     ]
    }
   ],
   "source": [
    "print(f\"Standard Deviation:{SD}, Z score :{Z_P2_P1}\")"
   ]
  },
  {
   "cell_type": "markdown",
   "metadata": {},
   "source": [
    "P(Z<=x) is 0.24"
   ]
  },
  {
   "cell_type": "markdown",
   "metadata": {},
   "source": [
    "Task 1.3"
   ]
  },
  {
   "cell_type": "code",
   "execution_count": 32,
   "metadata": {},
   "outputs": [
    {
     "data": {
      "text/plain": [
       "0.35406698564593303"
      ]
     },
     "execution_count": 32,
     "metadata": {},
     "output_type": "execute_result"
    }
   ],
   "source": [
    "x = 1100\n",
    "Mean_Popu = 1026\n",
    "SD_popu = 209\n",
    "\n",
    "Z = (x-Mean_Popu)/SD_popu\n",
    "Z"
   ]
  },
  {
   "cell_type": "markdown",
   "metadata": {},
   "source": [
    "P(Z<=1100) is 0.638 or 63.8% </br>\n",
    "you have better score than 63.8 % people who undertook the test"
   ]
  },
  {
   "cell_type": "markdown",
   "metadata": {},
   "source": [
    "Task 2.1"
   ]
  },
  {
   "cell_type": "code",
   "execution_count": 45,
   "metadata": {},
   "outputs": [],
   "source": [
    "from scipy.stats import chisquare,chi2_contingency\n",
    "import pandas as pd"
   ]
  },
  {
   "cell_type": "code",
   "execution_count": 41,
   "metadata": {},
   "outputs": [],
   "source": [
    "Data_observed = {\"School\":[60,40],\"Bachelors\":[54,44],\"Masters\":[46,53],\"Ph.d.\":[41,57]}\n",
    "index_data=[\"Female\",\"Male\"]\n",
    "df1 = pd.DataFrame(Data_observed,index =index_data )"
   ]
  },
  {
   "cell_type": "code",
   "execution_count": 55,
   "metadata": {},
   "outputs": [],
   "source": [
    "'''H0 : The gender and education level are independent'''\n",
    "'''H1 : The gender and education level are dependent'''\n",
    "chi2_stat, p_val, dof, ex = chi2_contingency(df1)"
   ]
  },
  {
   "cell_type": "code",
   "execution_count": 60,
   "metadata": {},
   "outputs": [
    {
     "name": "stdout",
     "output_type": "stream",
     "text": [
      "Stat is :8.006066246262538, probability : 0.045886500891747214\n",
      "dof : 3, expected value: [[50.88607595 49.86835443 50.37721519 49.86835443]\n",
      " [49.11392405 48.13164557 48.62278481 48.13164557]]\n"
     ]
    }
   ],
   "source": [
    "print(f' expected value: {ex}')"
   ]
  },
  {
   "cell_type": "code",
   "execution_count": 62,
   "metadata": {},
   "outputs": [
    {
     "name": "stdout",
     "output_type": "stream",
     "text": [
      "Stat is :8.006066246262538, probability : 0.045886500891747214,dof : 3\n"
     ]
    }
   ],
   "source": [
    "print(f'Stat is :{chi2_stat}, probability : {p_val},dof : {dof}')"
   ]
  },
  {
   "cell_type": "markdown",
   "metadata": {},
   "source": [
    "degree of freedom = 3 </br>\n",
    "Alpha = 0.05 </br>\n",
    "Critical Value at degree of freedom = 7.818 (from chi sq table)</br>\n",
    "so as 8.006066246262538 > 7.818 we reject H0 and conclude he gender and education level are dependent.\n"
   ]
  },
  {
   "cell_type": "markdown",
   "metadata": {},
   "source": [
    "Task2.3"
   ]
  },
  {
   "cell_type": "code",
   "execution_count": 87,
   "metadata": {},
   "outputs": [
    {
     "data": {
      "text/plain": [
       "F_onewayResult(statistic=3.6, pvalue=0.0943497728424377)"
      ]
     },
     "execution_count": 87,
     "metadata": {},
     "output_type": "execute_result"
    }
   ],
   "source": [
    "#Method 1\n",
    "from scipy import stats\n",
    "a = [10, 20, 30, 40, 50]\n",
    "b = [5,10,15, 20, 25]\n",
    "stats.f_oneway(a,b)"
   ]
  },
  {
   "cell_type": "code",
   "execution_count": 74,
   "metadata": {},
   "outputs": [
    {
     "data": {
      "text/plain": [
       "4.0"
      ]
     },
     "execution_count": 74,
     "metadata": {},
     "output_type": "execute_result"
    }
   ],
   "source": [
    "#Method2\n",
    "import statistics as stat\n",
    "var_a = stat.variance(a)\n",
    "var_b = stat.variance(b)\n",
    "F = var_a/var_b\n",
    "F"
   ]
  },
  {
   "cell_type": "code",
   "execution_count": 75,
   "metadata": {},
   "outputs": [],
   "source": [
    "dof1 = len(a)-1\n",
    "dof2 = len(b)-1"
   ]
  },
  {
   "cell_type": "code",
   "execution_count": 90,
   "metadata": {},
   "outputs": [
    {
     "name": "stdout",
     "output_type": "stream",
     "text": [
      "F = 4.0 , P = 0.896, alpha  = 0.05  Reject the null hypothesis Var(X) == Var(Y)\n"
     ]
    }
   ],
   "source": [
    "alpha = 0.05 #Or whatever you want your alpha to be.\n",
    "p_value = stats.f.cdf(F, dof1, dof2)\n",
    "if p_value > alpha:\n",
    "     print(f'F = {F} , P = {p_value}, alpha  = {alpha}  Reject the null hypothesis Var(X) == Var(Y)' )\n",
    "#that "
   ]
  },
  {
   "cell_type": "markdown",
   "metadata": {},
   "source": [
    "Task 2.2"
   ]
  },
  {
   "cell_type": "code",
   "execution_count": 91,
   "metadata": {},
   "outputs": [],
   "source": [
    "Group1 = [51, 45, 33, 45, 67]\n",
    "Group2 =  [23, 43, 23, 43, 45]\n",
    "Group3 =  [56, 76, 74, 87, 56]"
   ]
  },
  {
   "cell_type": "code",
   "execution_count": 193,
   "metadata": {},
   "outputs": [
    {
     "data": {
      "text/plain": [
       "(9.747205503009463, 0.0030597541434430556)"
      ]
     },
     "execution_count": 193,
     "metadata": {},
     "output_type": "execute_result"
    }
   ],
   "source": [
    "#Method1\n",
    "F,p = stats.f_oneway(Group1,Group2,Group3)\n",
    "F,p"
   ]
  },
  {
   "cell_type": "markdown",
   "metadata": {},
   "source": [
    "APA :- \n",
    "FCritical(2,12) = 7.95; \n",
    "P<0.05;"
   ]
  },
  {
   "cell_type": "code",
   "execution_count": 194,
   "metadata": {},
   "outputs": [],
   "source": [
    "#Method2\n",
    "import statistics\n",
    "def SS_calc(k):\n",
    "    ss = []\n",
    "    mean = stat.mean(k)\n",
    "    for x in k:\n",
    "        dev= x - mean\n",
    "        sq_dev = dev ** 2\n",
    "        print(x,mean,dev,sq_dev)\n",
    "        ss.append(sq_dev)\n",
    "    SS = sum(ss)\n",
    "    Var=SS/(len(k) - 1)\n",
    "    \n",
    "    return mean,SS,Var"
   ]
  },
  {
   "cell_type": "code",
   "execution_count": 186,
   "metadata": {},
   "outputs": [
    {
     "name": "stdout",
     "output_type": "stream",
     "text": [
      "51 48.2 2.799999999999997 7.839999999999984\n",
      "45 48.2 -3.200000000000003 10.240000000000018\n",
      "33 48.2 -15.200000000000003 231.04000000000008\n",
      "45 48.2 -3.200000000000003 10.240000000000018\n",
      "67 48.2 18.799999999999997 353.4399999999999\n"
     ]
    },
    {
     "data": {
      "text/plain": [
       "(48.2, 612.8, 153.2)"
      ]
     },
     "execution_count": 186,
     "metadata": {},
     "output_type": "execute_result"
    }
   ],
   "source": [
    "SS_calc(Group1)"
   ]
  },
  {
   "cell_type": "code",
   "execution_count": 187,
   "metadata": {},
   "outputs": [
    {
     "name": "stdout",
     "output_type": "stream",
     "text": [
      "23 35.4 -12.399999999999999 153.75999999999996\n",
      "43 35.4 7.600000000000001 57.76000000000002\n",
      "23 35.4 -12.399999999999999 153.75999999999996\n",
      "43 35.4 7.600000000000001 57.76000000000002\n",
      "45 35.4 9.600000000000001 92.16000000000003\n"
     ]
    },
    {
     "data": {
      "text/plain": [
       "(35.4, 515.2, 128.8)"
      ]
     },
     "execution_count": 187,
     "metadata": {},
     "output_type": "execute_result"
    }
   ],
   "source": [
    "SS_calc(Group2)"
   ]
  },
  {
   "cell_type": "code",
   "execution_count": 188,
   "metadata": {},
   "outputs": [
    {
     "name": "stdout",
     "output_type": "stream",
     "text": [
      "56 69.8 -13.799999999999997 190.4399999999999\n",
      "76 69.8 6.200000000000003 38.44000000000003\n",
      "74 69.8 4.200000000000003 17.640000000000025\n",
      "87 69.8 17.200000000000003 295.8400000000001\n",
      "56 69.8 -13.799999999999997 190.4399999999999\n"
     ]
    },
    {
     "data": {
      "text/plain": [
       "(69.8, 732.8, 183.2)"
      ]
     },
     "execution_count": 188,
     "metadata": {},
     "output_type": "execute_result"
    }
   ],
   "source": [
    "SS_calc(Group3)"
   ]
  },
  {
   "cell_type": "code",
   "execution_count": 200,
   "metadata": {},
   "outputs": [
    {
     "data": {
      "text/plain": [
       "155.06666666666666"
      ]
     },
     "execution_count": 200,
     "metadata": {},
     "output_type": "execute_result"
    }
   ],
   "source": [
    "MS_error = (153.2+128.8+183.2)/3\n",
    "MS_error"
   ]
  },
  {
   "cell_type": "code",
   "execution_count": 191,
   "metadata": {},
   "outputs": [
    {
     "data": {
      "text/plain": [
       "1860.8"
      ]
     },
     "execution_count": 191,
     "metadata": {},
     "output_type": "execute_result"
    }
   ],
   "source": [
    "SS_error = MS * 12\n",
    "SS_error"
   ]
  },
  {
   "cell_type": "code",
   "execution_count": 196,
   "metadata": {},
   "outputs": [
    {
     "name": "stdout",
     "output_type": "stream",
     "text": [
      "48.2 51.13333333333333 -2.93333333333333 8.604444444444425\n",
      "35.4 51.13333333333333 -15.733333333333334 247.53777777777782\n",
      "69.8 51.13333333333333 18.666666666666664 348.44444444444434\n"
     ]
    },
    {
     "data": {
      "text/plain": [
       "(51.13333333333333, 604.5866666666666, 302.2933333333333)"
      ]
     },
     "execution_count": 196,
     "metadata": {},
     "output_type": "execute_result"
    }
   ],
   "source": [
    "mean_ = [48.2,35.4,69.8]\n",
    "SS_calc(mean_)"
   ]
  },
  {
   "cell_type": "code",
   "execution_count": 199,
   "metadata": {},
   "outputs": [
    {
     "data": {
      "text/plain": [
       "(2, 1511.5, 3023.0)"
      ]
     },
     "execution_count": 199,
     "metadata": {},
     "output_type": "execute_result"
    }
   ],
   "source": [
    "df_between = len(mean_)-1\n",
    "MS_between = 302.3*5\n",
    "SS_between = MS_between*df_between\n",
    "df_between ,MS_between,SS_between"
   ]
  },
  {
   "cell_type": "code",
   "execution_count": 203,
   "metadata": {},
   "outputs": [
    {
     "name": "stdout",
     "output_type": "stream",
     "text": [
      "APA :- F=9.747420464316424; Fcritical(2,12)=7.19 ; P<0.05; N square = 0.6189852164298292\n"
     ]
    }
   ],
   "source": [
    "F = MS_between/MS_error\n",
    "n_sq = SS_between/(SS_between+SS_error)\n",
    "print(f'APA :- F={F}; Fcritical(2,12)=7.19 ; P<0.05; N square = {n_sq}')"
   ]
  },
  {
   "cell_type": "code",
   "execution_count": null,
   "metadata": {},
   "outputs": [],
   "source": []
  }
 ],
 "metadata": {
  "kernelspec": {
   "display_name": "Python 3",
   "language": "python",
   "name": "python3"
  },
  "language_info": {
   "codemirror_mode": {
    "name": "ipython",
    "version": 3
   },
   "file_extension": ".py",
   "mimetype": "text/x-python",
   "name": "python",
   "nbconvert_exporter": "python",
   "pygments_lexer": "ipython3",
   "version": "3.7.1"
  }
 },
 "nbformat": 4,
 "nbformat_minor": 2
}
